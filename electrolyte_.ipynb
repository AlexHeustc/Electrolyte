{
 "cells": [
  {
   "cell_type": "code",
   "execution_count": 1,
   "metadata": {
    "collapsed": true
   },
   "outputs": [],
   "source": [
    "import numpy as np\n",
    "import pandas as pd\n",
    "import os\n",
    "import itertools\n",
    "from ase import Atoms\n",
    "from ase.io import read\n",
    "from ase.geometry import distance,get_distances\n",
    "from ase.visualize import view"
   ]
  },
  {
   "cell_type": "code",
   "execution_count": 76,
   "outputs": [],
   "source": [
    "\n",
    "\n",
    "class LiCoordination:\n",
    "    def __init__(self, *args):\n",
    "        self.atoms_list = [self.recorrect_pos(arg.copy()) for arg in args]\n",
    "        print(self.atoms_list)\n",
    "\n",
    "    def __call__(self, *args, **kwargs):\n",
    "        if len(self.atoms_list)==2:\n",
    "            atoms = self.two_coordination(self.atoms_list)\n",
    "            return atoms\n",
    "        elif len(self.atoms_list)==3:\n",
    "            atoms = self.three_coordination(self.atoms_list)\n",
    "            return atoms\n",
    "\n",
    "\n",
    "    @staticmethod\n",
    "    def rotation_matrix(v1, v2):\n",
    "        \"\"\"return a rotation matrix of 2 vectors\"\"\"\n",
    "        v1 = v1 / np.linalg.norm(v1)  # 归一化第一个向量\n",
    "        v2 = v2 / np.linalg.norm(v2)  # 归一化第二个向量\n",
    "        cos_theta = np.dot(v1, v2)  # 两个向量的点积\n",
    "        sin_theta = np.linalg.norm(np.cross(v1, v2))  # 两个向量的叉积的模长\n",
    "        axis = np.cross(v1, v2)  # 旋转轴\n",
    "        axis /= np.linalg.norm(axis)  # 归一化旋转轴\n",
    "        # 使用罗德里格斯公式计算旋转矩阵\n",
    "        rotation_matrix = np.array([\n",
    "            [cos_theta + (1 - cos_theta) * axis[0]**2, (1 - cos_theta) * axis[0] * axis[1] - sin_theta * axis[2], (1 - cos_theta) * axis[0] * axis[2] + sin_theta * axis[1]],\n",
    "            [(1 - cos_theta) * axis[1] * axis[0] + sin_theta * axis[2], cos_theta + (1 - cos_theta) * axis[1]**2, (1 - cos_theta) * axis[1] * axis[2] - sin_theta * axis[0]],\n",
    "            [(1 - cos_theta) * axis[2] * axis[0] - sin_theta * axis[1], (1 - cos_theta) * axis[2] * axis[1] + sin_theta * axis[0], cos_theta + (1 - cos_theta) * axis[2]**2]\n",
    "        ])\n",
    "        return rotation_matrix\n",
    "\n",
    "    @classmethod\n",
    "    def recorrect_pos(cls,atoms):\n",
    "        \"\"\":return atoms towards the right\"\"\"\n",
    "        li_index = cls.get_li_index(atoms)\n",
    "        atoms_ = atoms[[atom.index for atom in atoms if atom.symbol != 'Li']]\n",
    "\n",
    "        # get the mass center of the electrolyte molecular\n",
    "        center  = atoms_.get_center_of_mass()\n",
    "        # get the vector from Li to the mass center\n",
    "        vector_li2center = atoms[li_index].position - center\n",
    "        vector_x = np.array([1,0,0])\n",
    "        # 计算旋转矩阵\n",
    "\n",
    "        matrix_ = cls.rotation_matrix(vector_li2center,vector_x)\n",
    "\n",
    "        atoms_rotated = np.dot(atoms.positions,matrix_.T)\n",
    "        atoms.set_positions(atoms_rotated)\n",
    "        return atoms\n",
    "\n",
    "\n",
    "\n",
    "    @staticmethod\n",
    "    def get_li_index(atoms):\n",
    "        \"\"\"获取原子系统中锂原子的索引\"\"\"\n",
    "        for index, symbol in enumerate(atoms.get_chemical_symbols()):\n",
    "            if symbol == \"Li\":\n",
    "                return index\n",
    "\n",
    "    @staticmethod\n",
    "    def check_overlap(atoms1, atoms2, center ,threshold=1.5):\n",
    "        \"\"\"检查两个原子系统之间是否存在重叠\"\"\"\n",
    "        dist_matrix = get_distances(atoms1.positions, atoms2.positions)\n",
    "        print(dist_matrix[-1].min())\n",
    "        if dist_matrix[-1].min() < threshold:\n",
    "            print(\"The distance between atoms is too small!\"\n",
    "                  \"Trying to adjust the distance...\")\n",
    "        while dist_matrix[-1].min() < threshold:\n",
    "            c1 = atoms1.get_center_of_mass()\n",
    "            c2 = atoms2.get_center_of_mass()\n",
    "            v1 = center - c1\n",
    "            v2 = center - c2\n",
    "\n",
    "            # 计算0.1长度的移动向量\n",
    "            scaled_vector_1  =  0.1 * v1 / np.linalg.norm(v1)\n",
    "            atoms1.positions += scaled_vector_1\n",
    "            scaled_vector_2  =  0.1 * v2 / np.linalg.norm(v2)\n",
    "            atoms1.positions += scaled_vector_2\n",
    "\n",
    "            dist_matrix = get_distances(atoms1.positions, atoms2.positions)\n",
    "\n",
    "        return atoms1,atoms2\n",
    "\n",
    "\n",
    "    def rotate_atoms(self, atoms, rotation_matrix, rotation_center):\n",
    "        \"\"\"对原子系统进行旋转和平移操作\"\"\"\n",
    "        # 平移分子使旋转中心位于原点\n",
    "        atoms_centered = atoms.positions - rotation_center.position\n",
    "        # 使用旋转矩阵旋转分子\n",
    "        atoms_rotated = atoms_centered.dot(rotation_matrix.T)\n",
    "        atoms.set_positions(atoms_rotated)\n",
    "        return atoms\n",
    "\n",
    "\n",
    "\n",
    "    def two_coordination(self,atoms_list):\n",
    "        \"\"\"计算两个原子系统之间的二协同\"\"\"\n",
    "        atoms1 = atoms_list[0]\n",
    "        atoms2 = atoms_list[1]\n",
    "\n",
    "        li_index_1 = self.get_li_index(atoms1)\n",
    "        li_index_2 = self.get_li_index(atoms2)\n",
    "\n",
    "        rotation_center_1 = atoms1[li_index_1]\n",
    "\n",
    "        # 定义绕z轴旋转180度的旋转矩阵\n",
    "        rotation_z = np.array([\n",
    "            [-1, 0, 0],\n",
    "            [0, -1, 0],\n",
    "            [0, 0, 1]\n",
    "        ])\n",
    "        # 定义绕x轴旋转120度的旋转矩阵\n",
    "        rotation_x = np.array([\n",
    "            [1, 0, 0],\n",
    "            [0, np.cos(np.pi * 2 / 3), -np.sin(np.pi * 2 / 3)],\n",
    "            [0, np.sin(np.pi * 2 / 3), np.cos(np.pi * 2 / 3)]\n",
    "        ])\n",
    "\n",
    "        rotation_matrix = rotation_x.T @ rotation_z.T\n",
    "\n",
    "        # 对原子系统进行旋转和平移操作\n",
    "        atoms1_rotated = self.rotate_atoms(atoms1, rotation_matrix, rotation_center_1)\n",
    "\n",
    "        # 平移 atoms1 使其与 atoms2 重叠\n",
    "        center = atoms2[li_index_2].position\n",
    "        atoms1_rotated.positions += center - atoms1[li_index_1].position\n",
    "\n",
    "        # get the electrolyte molecules without Li atom\n",
    "        atoms1_noli = atoms1[[atom.index for atom in atoms1 if atom.symbol != 'Li']]\n",
    "        atoms2_noli = atoms2[[atom.index for atom in atoms2 if atom.symbol != 'Li']]\n",
    "\n",
    "        # 检查重叠\n",
    "        atoms1_moved,atoms2_moved = self.check_overlap(atoms1_noli, atoms2_noli,center=center)\n",
    "\n",
    "        # 合并原子系统\n",
    "        atoms = atoms2_moved + atoms1_noli\n",
    "        return atoms\n",
    "\n",
    "    def three_coordination(self,atoms_list):\n",
    "        \"\"\"计算三个原子系统之间的三协同\"\"\"\n",
    "        atoms1 = atoms_list[0]\n",
    "        atoms2 = atoms_list[1]\n",
    "        atoms3 = atoms_list[2]\n",
    "\n",
    "        li_index_1 = self.get_li_index(atoms1)\n",
    "        li_index_2 = self.get_li_index(atoms2)\n",
    "        li_index_3 = self.get_li_index(atoms3)\n",
    "\n",
    "        rotation_center_1 = atoms1[li_index_1]\n",
    "        rotation_center_2 = atoms2[li_index_2]\n",
    "        rotation_center_3 = atoms3[li_index_3]\n",
    "\n",
    "        # 定义绕z轴旋转120度的旋转矩阵\n",
    "        rotation_matrix_z120 = np.array([\n",
    "            [np.cos(2*np.pi/3), -np.sin(2*np.pi/3), 0],\n",
    "            [np.sin(2*np.pi/3), np.cos(2*np.pi/3), 0],\n",
    "            [0, 0, 1]\n",
    "        ])\n",
    "\n",
    "        # 定义绕x轴旋转60度的旋转矩阵\n",
    "        rotation_matrix_x60 = np.array([\n",
    "            [1, 0, 0],\n",
    "            [0, np.cos(np.pi/3), -np.sin(np.pi/3)],\n",
    "            [0, np.sin(np.pi/3), np.cos(np.pi/3)]\n",
    "        ])\n",
    "\n",
    "        # 对原子系统进行旋转和平移操作\n",
    "        atoms1_rotated = self.rotate_atoms(atoms1, rotation_matrix_x60, rotation_center_1)\n",
    "        atoms2_rotated = self.rotate_atoms(atoms2, rotation_matrix_z120, rotation_center_2)\n",
    "        atoms3_rotated = self.rotate_atoms(atoms3, rotation_matrix_z120, rotation_center_3)\n",
    "\n",
    "        # 平移 atoms1 和 atoms2 使其与 atoms3 重叠,atoms3 的Li原子作为center\n",
    "        center = atoms3[li_index_3].position\n",
    "        atoms1_rotated.positions += center - atoms1[li_index_1].position\n",
    "        atoms2_rotated.positions += center - atoms2[li_index_2].position\n",
    "\n",
    "        atoms1_noli = atoms1_rotated[[atom.index for atom in atoms1_rotated if atom.symbol != 'Li']]\n",
    "        atoms2_noli = atoms2_rotated[[atom.index for atom in atoms2_rotated if atom.symbol != 'Li']]\n",
    "        atoms3_noli = atoms3[[atom.index for atom in atoms3 if atom.symbol != 'Li']]\n",
    "\n",
    "        # 检查重叠\n",
    "\n",
    "        atoms1_moved,atoms2_moved = self.check_overlap(atoms1_noli, atoms2_noli,center)\n",
    "        atoms1_moved,atoms3_moved = self.check_overlap(atoms1_moved, atoms3_noli,center)\n",
    "        atoms2_moved,atoms3_moved = self.check_overlap(atoms2_moved, atoms3_noli,center)\n",
    "\n",
    "        # 合并原子系统\n",
    "        atoms = atoms3 + atoms1_moved + atoms2_moved\n",
    "        return atoms\n",
    "\n",
    "    def four_coordination(self, atoms_list):\n",
    "        \"\"\"计算四个原子系统之间的四协同\"\"\"\n",
    "        atoms1 = atoms_list[0]\n",
    "        atoms2 = atoms_list[1]\n",
    "        atoms3 = atoms_list[2]\n",
    "        atoms4 = atoms_list[3]\n",
    "\n",
    "        li_index_1 = self.get_li_index(atoms1)\n",
    "        li_index_2 = self.get_li_index(atoms2)\n",
    "        li_index_3 = self.get_li_index(atoms3)\n",
    "        li_index_4 = self.get_li_index(atoms4)\n",
    "\n",
    "        rotation_center_1 = atoms1[li_index_1]\n",
    "        rotation_center_2 = atoms2[li_index_2]\n",
    "        rotation_center_3 = atoms3[li_index_3]\n",
    "        rotation_center_4 = atoms4[li_index_4]\n",
    "\n",
    "        # 定义绕z轴旋转120度的旋转矩阵\n",
    "        rotation_matrix_z120 = np.array([\n",
    "            [np.cos(2*np.pi/3), -np.sin(2*np.pi/3), 0],\n",
    "            [np.sin(2*np.pi/3), np.cos(2*np.pi/3), 0],\n",
    "            [0, 0, 1]\n",
    "        ])\n",
    "\n",
    "        # 定义绕z轴旋转240度的旋转矩阵\n",
    "        rotation_matrix_z240 = np.array([\n",
    "            [np.cos(4*np.pi/3), -np.sin(4*np.pi/3), 0],\n",
    "            [np.sin(4*np.pi/3), np.cos(4*np.pi/3), 0],\n",
    "            [0, 0, 1]\n",
    "        ])\n",
    "\n",
    "        # 定义绕x轴旋转60度的旋转矩阵\n",
    "        rotation_matrix_x60 = np.array([\n",
    "            [1, 0, 0],\n",
    "            [0, np.cos(np.pi/3), -np.sin(np.pi/3)],\n",
    "            [0, np.sin(np.pi/3), np.cos(np.pi/3)]\n",
    "        ])\n",
    "\n",
    "        # 定义绕x轴旋转300度的旋转矩阵\n",
    "        rotation_matrix_x300 = np.array([\n",
    "            [1, 0, 0],\n",
    "            [0, np.cos(5*np.pi/6), -np.sin(5*np.pi/6)],\n",
    "            [0, np.sin(5*np.pi/6), np.cos(5*np.pi/6)]\n",
    "        ])\n",
    "\n",
    "        # 对原子系统进行旋转和平移操作\n",
    "        atoms1_rotated = self.rotate_atoms(atoms1, rotation_matrix_x60, rotation_center_1)\n",
    "        atoms2_rotated = self.rotate_atoms(atoms2, rotation_matrix_z240, rotation_center_2)\n",
    "        atoms3_rotated = self.rotate_atoms(atoms3, rotation_matrix_x300, rotation_center_3)\n",
    "        atoms4_rotated = self.rotate_atoms(atoms4, rotation_matrix_x60, rotation_center_4)\n",
    "\n",
    "        # 平移 atoms1、atoms2 和 atoms3 使其与 atoms4 重叠\n",
    "        atoms1_rotated.positions += atoms4[li_index_4].position - atoms1[li_index_1].position\n",
    "        atoms2_rotated.positions += atoms4[li_index_4].position - atoms2[li_index_2].position\n",
    "        atoms3_rotated.positions += atoms4[li_index_4].position - atoms3[li_index_3].position\n",
    "\n",
    "        atoms1_noli = atoms1_rotated[[atom.index for atom in atoms1_rotated if atom.symbol != 'Li']]\n",
    "        atoms2_noli = atoms2_rotated[[atom.index for atom in atoms2_rotated if atom.symbol != 'Li']]\n",
    "        atoms3_noli = atoms3_rotated[[atom.index for atom in atoms3_rotated if atom.symbol != 'Li']]\n",
    "        atoms4_noli = atoms4[[atom.index for atom in atoms4 if atom.symbol != 'Li']]\n",
    "\n",
    "        # 检查重叠\n",
    "        if (\n",
    "            self.check_overlap(atoms1_noli, atoms2_noli) or\n",
    "            self.check_overlap(atoms1_noli, atoms3_noli) or\n",
    "            self.check_overlap(atoms1_noli, atoms4_noli) or\n",
    "            self.check_overlap(atoms2_noli, atoms3_noli) or\n",
    "            self.check_overlap(atoms2_noli, atoms4_noli) or\n",
    "            self.check_overlap(atoms3_noli, atoms4_noli)\n",
    "        ):\n",
    "            raise ValueError(\"The distance between atoms is too small!\")\n",
    "\n",
    "        # 合并原子系统\n",
    "        atoms = atoms4 + atoms1_noli + atoms2_noli + atoms3_noli\n",
    "        return atoms"
   ],
   "metadata": {
    "collapsed": false
   }
  },
  {
   "cell_type": "code",
   "execution_count": 77,
   "outputs": [],
   "source": [
    "atoms1 = read('./1Li/2DMP.xsd')\n",
    "atoms2 = read('./1Li/13DIOXANE.xsd')\n",
    "atoms3 = read('./1Li/BA/BA.log')"
   ],
   "metadata": {
    "collapsed": false
   }
  },
  {
   "cell_type": "code",
   "execution_count": 78,
   "outputs": [
    {
     "name": "stdout",
     "output_type": "stream",
     "text": [
      "[Atoms(symbols='O2C5H12Li', pbc=False), Atoms(symbols='O2C4H8Li', pbc=False)]\n"
     ]
    }
   ],
   "source": [
    "Li2 = LiCoordination(atoms1,atoms2)"
   ],
   "metadata": {
    "collapsed": false
   }
  },
  {
   "cell_type": "code",
   "execution_count": 79,
   "outputs": [
    {
     "name": "stdout",
     "output_type": "stream",
     "text": [
      "3.704219404650972\n"
     ]
    },
    {
     "data": {
      "text/plain": "<Popen: returncode: None args: ['D:\\\\ProgramData\\\\Anaconda3\\\\envs\\\\matminer\\...>"
     },
     "execution_count": 79,
     "metadata": {},
     "output_type": "execute_result"
    }
   ],
   "source": [
    "view(Li2())"
   ],
   "metadata": {
    "collapsed": false
   }
  },
  {
   "cell_type": "code",
   "execution_count": 21,
   "outputs": [],
   "source": [
    "li_coordination = LiCoordination()\n",
    "atoms = li_coordination.two_coordination(atoms1,atoms2)"
   ],
   "metadata": {
    "collapsed": false
   }
  },
  {
   "cell_type": "code",
   "execution_count": 67,
   "outputs": [
    {
     "data": {
      "text/plain": "array([[ 9.905770e-01, -3.652090e-01,  9.700000e-05],\n       [ 2.401390e+00,  1.364432e+00, -2.300000e-05],\n       [-1.423546e+00, -3.676810e-01,  1.200000e-05],\n       [-2.714458e+00,  4.648000e-01,  1.870000e-04],\n       [-1.922350e-01,  5.150820e-01,  2.770000e-04],\n       [-3.972168e+00, -4.087290e-01, -7.300000e-05],\n       [ 2.189214e+00,  1.389610e-01,  2.510000e-04],\n       [ 3.276842e+00, -8.890600e-01, -3.050000e-04],\n       [-1.398240e+00, -1.017714e+00,  8.801640e-01],\n       [-1.398186e+00, -1.017261e+00, -8.804720e-01],\n       [-2.726906e+00,  1.121312e+00, -8.778620e-01],\n       [-2.726958e+00,  1.120864e+00,  8.785700e-01],\n       [-1.335270e-01,  1.144114e+00, -8.904050e-01],\n       [-1.335830e-01,  1.143668e+00,  8.912770e-01],\n       [-4.008205e+00, -1.051455e+00, -8.840180e-01],\n       [-4.008253e+00, -1.051911e+00,  8.835390e-01],\n       [-4.873960e+00,  2.069410e-01,  6.100000e-05],\n       [ 3.169638e+00, -1.531581e+00, -8.774930e-01],\n       [ 3.172807e+00, -1.528763e+00,  8.793590e-01],\n       [ 4.256386e+00, -4.166890e-01, -2.703000e-03],\n       [ 3.002291e+00,  2.991897e+00,  1.030000e-03]])"
     },
     "execution_count": 67,
     "metadata": {},
     "output_type": "execute_result"
    }
   ],
   "source": [
    "atoms3.positions"
   ],
   "metadata": {
    "collapsed": false
   }
  },
  {
   "cell_type": "code",
   "execution_count": 66,
   "outputs": [
    {
     "data": {
      "text/plain": "1.7066613504260297"
     },
     "execution_count": 66,
     "metadata": {},
     "output_type": "execute_result"
    }
   ],
   "source": [
    "get_distances(atoms3.positions, atoms3.positions + [3,3,3] )[1].min()"
   ],
   "metadata": {
    "collapsed": false
   }
  },
  {
   "cell_type": "code",
   "execution_count": 16,
   "outputs": [],
   "source": [
    "def recorrect_pos(atoms):\n",
    "    atoms = atoms.copy()\n",
    "    li_index = LiCoordination.get_li_index(atoms)\n",
    "    print(li_index)\n",
    "    atoms_ = atoms[[atom.index for atom in atoms if atom.symbol != 'Li']]\n",
    "\n",
    "    # get the mass center of the electrolyte molecular\n",
    "    center  = atoms_.get_center_of_mass()\n",
    "    # get the vector from Li to the mass center\n",
    "    vector_li2center = atoms[li_index].position - center\n",
    "    vector_x = np.array([1,0,0])\n",
    "    # 计算旋转矩阵\n",
    "\n",
    "    matrix_ = rotation_matrix(vector_li2center,vector_x)\n",
    "\n",
    "    atoms_rotated = np.dot(atoms.positions,matrix_.T)\n",
    "    atoms.set_positions(atoms_rotated)\n",
    "    return atoms"
   ],
   "metadata": {
    "collapsed": false
   }
  },
  {
   "cell_type": "code",
   "execution_count": 18,
   "outputs": [
    {
     "name": "stdout",
     "output_type": "stream",
     "text": [
      "19\n"
     ]
    },
    {
     "data": {
      "text/plain": "<Popen: returncode: None args: ['D:\\\\ProgramData\\\\Anaconda3\\\\envs\\\\matminer\\...>"
     },
     "execution_count": 18,
     "metadata": {},
     "output_type": "execute_result"
    }
   ],
   "source": [
    "view(recorrect_pos(atoms1))"
   ],
   "metadata": {
    "collapsed": false
   }
  },
  {
   "cell_type": "code",
   "execution_count": 7,
   "outputs": [
    {
     "ename": "ValueError",
     "evalue": "The distance between atoms is too small!",
     "output_type": "error",
     "traceback": [
      "\u001B[1;31m---------------------------------------------------------------------------\u001B[0m",
      "\u001B[1;31mValueError\u001B[0m                                Traceback (most recent call last)",
      "Cell \u001B[1;32mIn[7], line 9\u001B[0m\n\u001B[0;32m      6\u001B[0m li_coordination \u001B[38;5;241m=\u001B[39m LiCoordination()\n\u001B[0;32m      8\u001B[0m \u001B[38;5;66;03m# 计算二协同\u001B[39;00m\n\u001B[1;32m----> 9\u001B[0m result_atoms \u001B[38;5;241m=\u001B[39m \u001B[43mli_coordination\u001B[49m\u001B[38;5;241;43m.\u001B[39;49m\u001B[43mtwo_coordination\u001B[49m\u001B[43m(\u001B[49m\u001B[43matoms1\u001B[49m\u001B[43m,\u001B[49m\u001B[43m \u001B[49m\u001B[43matoms2\u001B[49m\u001B[43m)\u001B[49m\n\u001B[0;32m     11\u001B[0m \u001B[38;5;66;03m# 计算三协同\u001B[39;00m\n\u001B[0;32m     12\u001B[0m result_atoms \u001B[38;5;241m=\u001B[39m li_coordination\u001B[38;5;241m.\u001B[39mthree_coordination(atoms1, atoms2, atoms3)\n",
      "Cell \u001B[1;32mIn[2], line 61\u001B[0m, in \u001B[0;36mLiCoordination.two_coordination\u001B[1;34m(self, atoms1, atoms2)\u001B[0m\n\u001B[0;32m     59\u001B[0m \u001B[38;5;66;03m# 检查重叠\u001B[39;00m\n\u001B[0;32m     60\u001B[0m \u001B[38;5;28;01mif\u001B[39;00m \u001B[38;5;28mself\u001B[39m\u001B[38;5;241m.\u001B[39mcheck_overlap(atoms1_noli, atoms2_noli):\n\u001B[1;32m---> 61\u001B[0m     \u001B[38;5;28;01mraise\u001B[39;00m \u001B[38;5;167;01mValueError\u001B[39;00m(\u001B[38;5;124m\"\u001B[39m\u001B[38;5;124mThe distance between atoms is too small!\u001B[39m\u001B[38;5;124m\"\u001B[39m)\n\u001B[0;32m     63\u001B[0m \u001B[38;5;66;03m# 合并原子系统\u001B[39;00m\n\u001B[0;32m     64\u001B[0m atoms \u001B[38;5;241m=\u001B[39m atoms2 \u001B[38;5;241m+\u001B[39m atoms1_noli\n",
      "\u001B[1;31mValueError\u001B[0m: The distance between atoms is too small!"
     ]
    }
   ],
   "source": [
    "\n",
    "# 示例用法\n",
    "if __name__ == \"__main__\":\n",
    "    # 创建示例原子系统 atoms1, atoms2, atoms3, atoms4\n",
    "    # ...\n",
    "\n",
    "    li_coordination = LiCoordination()\n",
    "\n",
    "    # 计算二协同\n",
    "    result_atoms = li_coordination.two_coordination(atoms1, atoms2)\n",
    "\n",
    "    # 计算三协同\n",
    "    result_atoms = li_coordination.three_coordination(atoms1, atoms2, atoms3)\n",
    "\n",
    "    # 计算四协同\n",
    "    # result_atoms = li_coordination.four_coordination(atoms1, atoms2, atoms3, atoms4)\n"
   ],
   "metadata": {
    "collapsed": false
   }
  }
 ],
 "metadata": {
  "kernelspec": {
   "display_name": "Python 3",
   "language": "python",
   "name": "python3"
  },
  "language_info": {
   "codemirror_mode": {
    "name": "ipython",
    "version": 2
   },
   "file_extension": ".py",
   "mimetype": "text/x-python",
   "name": "python",
   "nbconvert_exporter": "python",
   "pygments_lexer": "ipython2",
   "version": "2.7.6"
  }
 },
 "nbformat": 4,
 "nbformat_minor": 0
}
